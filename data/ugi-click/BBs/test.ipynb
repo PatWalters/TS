{
 "cells": [
  {
   "cell_type": "code",
   "execution_count": 2,
   "metadata": {},
   "outputs": [],
   "source": [
    "import re"
   ]
  },
  {
   "cell_type": "code",
   "execution_count": 12,
   "metadata": {},
   "outputs": [
    {
     "name": "stdout",
     "output_type": "stream",
     "text": [
      "C[C@H]([NH+]=[N+]=[N-])C1=CC=C(C2=CC=CC=C2)C=C1\n",
      "CC(C)(C)[PH+](CC[NH+]=[N+]=[N-])C(C)(C)C\n",
      "2\n"
     ]
    }
   ],
   "source": [
    "with open('azide.smi', 'r') as f:\n",
    "    lines = f.readlines()\n",
    "cnt = 0\n",
    "for l in lines:\n",
    "    if not re.findall(r'N\\=\\[N\\+\\]\\=\\[N-\\]|\\[N-\\]\\=\\[N\\+\\]\\=N', l.split()[0]):\n",
    "        cnt += 1\n",
    "        print(l.split()[0])\n",
    "print(cnt)"
   ]
  },
  {
   "cell_type": "code",
   "execution_count": 11,
   "metadata": {},
   "outputs": [
    {
     "name": "stdout",
     "output_type": "stream",
     "text": [
      "Match 1: False\n",
      "Match 2: True\n"
     ]
    }
   ],
   "source": [
    "pattern = r'N\\=\\[N\\+\\]\\=\\[N-\\]|\\[N-\\]\\=\\[N\\+\\]\\=N'\n",
    "\n",
    "# 测试字符串\n",
    "test_string1 = 'N=[N+]=[N-]'\n",
    "test_string2 = '[N-]=[N+]=N'\n",
    "\n",
    "# 匹配\n",
    "match1 = re.match(pattern, test_string1)\n",
    "match2 = re.match(pattern, test_string2)\n",
    "\n",
    "# 输出结果\n",
    "print('Match 1:', match1 is not None)  # True\n",
    "print('Match 2:', match2 is not None)  # True\n"
   ]
  }
 ],
 "metadata": {
  "kernelspec": {
   "display_name": "mol_automl",
   "language": "python",
   "name": "python3"
  },
  "language_info": {
   "codemirror_mode": {
    "name": "ipython",
    "version": 3
   },
   "file_extension": ".py",
   "mimetype": "text/x-python",
   "name": "python",
   "nbconvert_exporter": "python",
   "pygments_lexer": "ipython3",
   "version": "3.10.12"
  }
 },
 "nbformat": 4,
 "nbformat_minor": 2
}
