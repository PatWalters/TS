{
 "cells": [
  {
   "cell_type": "code",
   "execution_count": 1,
   "metadata": {},
   "outputs": [],
   "source": [
    "from ugi_rxn_mapper import ugi_rxn_mapper\n",
    "\n",
    "from chemprop.train import make_predictions, load_model\n",
    "from chemprop.args import PredictArgs\n"
   ]
  },
  {
   "cell_type": "code",
   "execution_count": 2,
   "metadata": {},
   "outputs": [
    {
     "name": "stdout",
     "output_type": "stream",
     "text": [
      "[['[#6-:9]#[#7+:11]-[#6:12](-[#6H3:13])(-[#6H3:14])-[#6H3:15].[#7H3].[#6H:8](=[#8])-[#6:16]1:[#6H:17]:[#6H:18]:[#6H:19]:[#6H:20]:[#6:21]:1-[#9:22].[#6:5](=[#8:6])(-[#8H:10])-[#6H2:4]-[#6H2:3]-[#6:2]#[#6H:1]>>[#6H:1]#[#6:2]-[#6H2:3]-[#6H2:4]-[#6:5](=[#8:6])-[#7H:7]-[#6H:8](-[#6:9](=[#8:10])-[#7H:11]-[#6:12](-[#6H3:13])(-[#6H3:14])-[#6H3:15])-[#6:16]1:[#6H:17]:[#6H:18]:[#6H:19]:[#6H:20]:[#6:21]:1-[#9:22]', 'FC(F)(F)CO']]\n"
     ]
    }
   ],
   "source": [
    "smi = 'C#CCCC(=O)NC(C(=O)NC(C)(C)C)C1=CC=CC=C1F'\n",
    "rxn_smi = ugi_rxn_mapper([smi])[0]\n",
    "rxn_smi = [[rxn_smi,\"FC(F)(F)CO\"]]\n",
    "print(rxn_smi)\n"
   ]
  },
  {
   "cell_type": "code",
   "execution_count": 3,
   "metadata": {},
   "outputs": [
    {
     "name": "stdout",
     "output_type": "stream",
     "text": [
      "Loading training args\n",
      "Loading pretrained parameter \"encoder.encoder.cached_zero_vector\".\n",
      "Warning: Pretrained parameter \"encoder.encoder.W_i.weight\" of shape torch.Size([500, 193]) does not match corresponding model parameter of shape torch.Size([500, 147]).\n",
      "Loading pretrained parameter \"encoder.encoder.W_h.weight\".\n",
      "Warning: Pretrained parameter \"encoder.encoder.W_o.weight\" of shape torch.Size([500, 665]) does not match corresponding model parameter of shape torch.Size([500, 633]).\n",
      "Loading pretrained parameter \"encoder.encoder.W_o.bias\".\n",
      "Loading pretrained parameter \"encoder.encoder_solvent.cached_zero_vector\".\n",
      "Loading pretrained parameter \"encoder.encoder_solvent.W_i.weight\".\n",
      "Loading pretrained parameter \"encoder.encoder_solvent.W_h.weight\".\n",
      "Loading pretrained parameter \"encoder.encoder_solvent.W_o.weight\".\n",
      "Loading pretrained parameter \"encoder.encoder_solvent.W_o.bias\".\n",
      "Loading pretrained parameter \"readout.1.weight\".\n",
      "Loading pretrained parameter \"readout.1.bias\".\n",
      "Loading pretrained parameter \"readout.4.weight\".\n",
      "Loading pretrained parameter \"readout.4.bias\".\n",
      "Loading pretrained parameter \"readout.7.weight\".\n",
      "Loading pretrained parameter \"readout.7.bias\".\n",
      "Moving model to cuda\n"
     ]
    }
   ],
   "source": [
    "\n",
    "args = PredictArgs()\n",
    "args.features_generator =  [\"rdkit_2d\",\"ifg_drugbank_2\",\"ugi_qmdesc_atom\"]\n",
    "args.number_of_molecules = 2\n",
    "args.gpu = 0\n",
    "args.checkpoint_paths = ['../benchmark_chemprop/hyper_opt/opt_for_pred/trial_seed_60/fold_2/model_0/model.pt', '../benchmark_chemprop/hyper_opt/opt_for_pred/trial_seed_60/fold_1/model_0/model.pt', '../benchmark_chemprop/hyper_opt/opt_for_pred/trial_seed_60/fold_8/model_0/model.pt', '../benchmark_chemprop/hyper_opt/opt_for_pred/trial_seed_60/fold_6/model_0/model.pt', '../benchmark_chemprop/hyper_opt/opt_for_pred/trial_seed_60/fold_0/model_0/model.pt', '../benchmark_chemprop/hyper_opt/opt_for_pred/trial_seed_60/fold_4/model_0/model.pt', '../benchmark_chemprop/hyper_opt/opt_for_pred/trial_seed_60/fold_9/model_0/model.pt', '../benchmark_chemprop/hyper_opt/opt_for_pred/trial_seed_60/fold_7/model_0/model.pt', '../benchmark_chemprop/hyper_opt/opt_for_pred/trial_seed_60/fold_3/model_0/model.pt', '../benchmark_chemprop/hyper_opt/opt_for_pred/trial_seed_60/fold_5/model_0/model.pt']\n",
    "args.checkpoint_paths = ['/home/jnliu/chemprop/benchmark_chemprop/hyper_opt/opt_for_pred/trial_seed_60/fold_2/model_0/model.pt']\n",
    "args.no_features_scaling = False\n",
    "args.preds_path = \"./preds.csv\"\n",
    "mpnn_model = load_model(args=args)\n"
   ]
  },
  {
   "cell_type": "code",
   "execution_count": 4,
   "metadata": {},
   "outputs": [
    {
     "name": "stdout",
     "output_type": "stream",
     "text": [
      "Setting molecule featurization parameters to default.\n",
      "Loading data\n",
      "Validating SMILES\n",
      "Test size = 1\n"
     ]
    },
    {
     "name": "stderr",
     "output_type": "stream",
     "text": [
      "  0%|          | 0/1 [00:00<?, ?it/s]\n"
     ]
    },
    {
     "name": "stdout",
     "output_type": "stream",
     "text": [
      "Loading training args\n",
      "Loading pretrained parameter \"encoder.encoder.cached_zero_vector\".\n",
      "Loading pretrained parameter \"encoder.encoder.W_i.weight\".\n",
      "Loading pretrained parameter \"encoder.encoder.W_h.weight\".\n",
      "Loading pretrained parameter \"encoder.encoder.W_o.weight\".\n",
      "Loading pretrained parameter \"encoder.encoder.W_o.bias\".\n",
      "Loading pretrained parameter \"encoder.encoder_solvent.cached_zero_vector\".\n",
      "Loading pretrained parameter \"encoder.encoder_solvent.W_i.weight\".\n",
      "Loading pretrained parameter \"encoder.encoder_solvent.W_h.weight\".\n",
      "Loading pretrained parameter \"encoder.encoder_solvent.W_o.weight\".\n",
      "Loading pretrained parameter \"encoder.encoder_solvent.W_o.bias\".\n",
      "Loading pretrained parameter \"readout.1.weight\".\n",
      "Loading pretrained parameter \"readout.1.bias\".\n",
      "Loading pretrained parameter \"readout.4.weight\".\n",
      "Loading pretrained parameter \"readout.4.bias\".\n",
      "Loading pretrained parameter \"readout.7.weight\".\n",
      "Loading pretrained parameter \"readout.7.bias\".\n",
      "Moving model to cuda\n",
      "Setting molecule featurization parameters to default.\n",
      "Loading data\n",
      "Validating SMILES\n",
      "Test size = 1\n"
     ]
    },
    {
     "name": "stderr",
     "output_type": "stream",
     "text": [
      "100%|██████████| 1/1 [00:00<00:00,  4.89it/s]"
     ]
    },
    {
     "name": "stdout",
     "output_type": "stream",
     "text": [
      "Saving predictions to ./preds.csv\n",
      "Elapsed time = 0:00:00\n"
     ]
    },
    {
     "name": "stderr",
     "output_type": "stream",
     "text": [
      "\n"
     ]
    },
    {
     "data": {
      "text/plain": [
       "0.8675797581672668"
      ]
     },
     "execution_count": 4,
     "metadata": {},
     "output_type": "execute_result"
    }
   ],
   "source": [
    "\n",
    "try:\n",
    "    preds_result = make_predictions(args, smiles=rxn_smi, model_objects=mpnn_model)\n",
    "except:\n",
    "    mpnn_model = load_model(args=args)\n",
    "    preds_result = make_predictions(args, smiles=rxn_smi, model_objects=mpnn_model)\n",
    "preds_result[0][0]"
   ]
  },
  {
   "cell_type": "code",
   "execution_count": 1,
   "metadata": {},
   "outputs": [],
   "source": [
    "from qmdesc import ReactivityDescriptorHandler\n",
    "handler = ReactivityDescriptorHandler()\n",
    "\n",
    "def cal(smi):\n",
    "    return handler.predict(smi)\n",
    "    "
   ]
  }
 ],
 "metadata": {
  "kernelspec": {
   "display_name": "mol_automl",
   "language": "python",
   "name": "python3"
  },
  "language_info": {
   "codemirror_mode": {
    "name": "ipython",
    "version": 3
   },
   "file_extension": ".py",
   "mimetype": "text/x-python",
   "name": "python",
   "nbconvert_exporter": "python",
   "pygments_lexer": "ipython3",
   "version": "3.10.12"
  }
 },
 "nbformat": 4,
 "nbformat_minor": 2
}
